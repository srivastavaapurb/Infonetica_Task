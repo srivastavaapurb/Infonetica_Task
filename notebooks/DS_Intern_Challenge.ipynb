from ds_intern.client import AzureOpenAIClient
from ds_intern.simulator import ConversationSimulator, export_logs
from ds_intern.metrics import aggregate_metrics, top_failure_modes
client = AzureOpenAIClient()import os
os.environ['AZURE_OPENAI_ENDPOINT'] = os.environ.get('AZURE_OPENAI_ENDPOINT', 'https://reasearch-interns.openai.azure.com')
os.environ['AZURE_OPENAI_API_KEY'] = os.environ.get('AZURE_OPENAI_API_KEY', '')
os.environ['AZURE_OPENAI_DEPLOYMENT'] = os.environ.get('AZURE_OPENAI_DEPLOYMENT', 'gpt-4o-mini')
os.environ['AZURE_OPENAI_API_VERSION'] = os.environ.get('AZURE_OPENAI_API_VERSION', '2025-01-01-preview')
os.environ['REQUEST_TIMEOUT_SECONDS'] = os.environ.get('REQUEST_TIMEOUT_SECONDS', '60')
print('Configured endpoint:', os.environ['AZURE_OPENAI_ENDPOINT'])pip -q install -r /workspace/requirements.txt || pip -q install requests python-dotenv tenacity pandas numpy matplotlib seaborn tqdm pyyaml